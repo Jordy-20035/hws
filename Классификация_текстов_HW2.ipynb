{
  "nbformat": 4,
  "nbformat_minor": 0,
  "metadata": {
    "colab": {
      "provenance": [],
      "include_colab_link": true
    },
    "kernelspec": {
      "name": "python3",
      "display_name": "Python 3"
    },
    "language_info": {
      "name": "python"
    }
  },
  "cells": [
    {
      "cell_type": "markdown",
      "metadata": {
        "id": "view-in-github",
        "colab_type": "text"
      },
      "source": [
        "<a href=\"https://colab.research.google.com/github/Jordy-20035/hws/blob/hw2/%D0%9A%D0%BB%D0%B0%D1%81%D1%81%D0%B8%D1%84%D0%B8%D0%BA%D0%B0%D1%86%D0%B8%D1%8F_%D1%82%D0%B5%D0%BA%D1%81%D1%82%D0%BE%D0%B2_HW2.ipynb\" target=\"_parent\"><img src=\"https://colab.research.google.com/assets/colab-badge.svg\" alt=\"Open In Colab\"/></a>"
      ]
    },
    {
      "cell_type": "code",
      "source": [
        "!pip uninstall pymorphy2 -y"
      ],
      "metadata": {
        "colab": {
          "base_uri": "https://localhost:8080/"
        },
        "id": "pNcRluFCWHg3",
        "outputId": "12a9ccad-3b40-4569-98f6-a2a5dd9f524a"
      },
      "execution_count": 2,
      "outputs": [
        {
          "output_type": "stream",
          "name": "stdout",
          "text": [
            "\u001b[33mWARNING: Skipping pymorphy2 as it is not installed.\u001b[0m\u001b[33m\n",
            "\u001b[0m"
          ]
        }
      ]
    },
    {
      "cell_type": "code",
      "source": [
        "!pip install corus py imbalanced-learn pymorphy3 pymorphy3-dicts-ru joblib tqdm"
      ],
      "metadata": {
        "id": "junnl9DyevTg",
        "colab": {
          "base_uri": "https://localhost:8080/"
        },
        "collapsed": true,
        "outputId": "b11135b0-7dd4-4737-b410-06dda1928a66"
      },
      "execution_count": 3,
      "outputs": [
        {
          "output_type": "stream",
          "name": "stdout",
          "text": [
            "Collecting corus\n",
            "  Downloading corus-0.10.0-py3-none-any.whl.metadata (31 kB)\n",
            "Collecting py\n",
            "  Downloading py-1.11.0-py2.py3-none-any.whl.metadata (2.8 kB)\n",
            "Requirement already satisfied: imbalanced-learn in /usr/local/lib/python3.11/dist-packages (0.13.0)\n",
            "Collecting pymorphy3\n",
            "  Downloading pymorphy3-2.0.3-py3-none-any.whl.metadata (1.9 kB)\n",
            "Collecting pymorphy3-dicts-ru\n",
            "  Downloading pymorphy3_dicts_ru-2.4.417150.4580142-py2.py3-none-any.whl.metadata (2.0 kB)\n",
            "Requirement already satisfied: joblib in /usr/local/lib/python3.11/dist-packages (1.4.2)\n",
            "Requirement already satisfied: tqdm in /usr/local/lib/python3.11/dist-packages (4.67.1)\n",
            "Requirement already satisfied: numpy<3,>=1.24.3 in /usr/local/lib/python3.11/dist-packages (from imbalanced-learn) (2.2.4)\n",
            "Requirement already satisfied: scipy<2,>=1.10.1 in /usr/local/lib/python3.11/dist-packages (from imbalanced-learn) (1.13.1)\n",
            "Requirement already satisfied: scikit-learn<2,>=1.3.2 in /usr/local/lib/python3.11/dist-packages (from imbalanced-learn) (1.6.1)\n",
            "Requirement already satisfied: sklearn-compat<1,>=0.1 in /usr/local/lib/python3.11/dist-packages (from imbalanced-learn) (0.1.3)\n",
            "Requirement already satisfied: threadpoolctl<4,>=2.0.0 in /usr/local/lib/python3.11/dist-packages (from imbalanced-learn) (3.6.0)\n",
            "Collecting dawg2-python>=0.8.0 (from pymorphy3)\n",
            "  Downloading dawg2_python-0.9.0-py3-none-any.whl.metadata (7.5 kB)\n",
            "Downloading corus-0.10.0-py3-none-any.whl (83 kB)\n",
            "\u001b[2K   \u001b[90m━━━━━━━━━━━━━━━━━━━━━━━━━━━━━━━━━━━━━━━━\u001b[0m \u001b[32m83.7/83.7 kB\u001b[0m \u001b[31m3.5 MB/s\u001b[0m eta \u001b[36m0:00:00\u001b[0m\n",
            "\u001b[?25hDownloading py-1.11.0-py2.py3-none-any.whl (98 kB)\n",
            "\u001b[2K   \u001b[90m━━━━━━━━━━━━━━━━━━━━━━━━━━━━━━━━━━━━━━━━\u001b[0m \u001b[32m98.7/98.7 kB\u001b[0m \u001b[31m7.2 MB/s\u001b[0m eta \u001b[36m0:00:00\u001b[0m\n",
            "\u001b[?25hDownloading pymorphy3-2.0.3-py3-none-any.whl (53 kB)\n",
            "\u001b[2K   \u001b[90m━━━━━━━━━━━━━━━━━━━━━━━━━━━━━━━━━━━━━━━━\u001b[0m \u001b[32m53.8/53.8 kB\u001b[0m \u001b[31m3.4 MB/s\u001b[0m eta \u001b[36m0:00:00\u001b[0m\n",
            "\u001b[?25hDownloading pymorphy3_dicts_ru-2.4.417150.4580142-py2.py3-none-any.whl (8.4 MB)\n",
            "\u001b[2K   \u001b[90m━━━━━━━━━━━━━━━━━━━━━━━━━━━━━━━━━━━━━━━━\u001b[0m \u001b[32m8.4/8.4 MB\u001b[0m \u001b[31m70.8 MB/s\u001b[0m eta \u001b[36m0:00:00\u001b[0m\n",
            "\u001b[?25hDownloading dawg2_python-0.9.0-py3-none-any.whl (9.3 kB)\n",
            "Installing collected packages: pymorphy3-dicts-ru, corus, py, dawg2-python, pymorphy3\n",
            "Successfully installed corus-0.10.0 dawg2-python-0.9.0 py-1.11.0 pymorphy3-2.0.3 pymorphy3-dicts-ru-2.4.417150.4580142\n"
          ]
        }
      ]
    },
    {
      "cell_type": "markdown",
      "source": [
        "Corus: Official loader for Lenta.ru dataset ensures correct parsing.\n",
        "\n",
        "Pymorphy3: Faster Russian lemmatization than Stanza (10x speedup).\n",
        "\n",
        "imbalanced-learn: Required for SMOTE to handle class imbalance.\n",
        "\n",
        "joblib: Enables parallel processing for lemmatization.\n",
        "\n",
        "tqdm: Provides progress visualization."
      ],
      "metadata": {
        "id": "KchHl2sngzMg"
      }
    },
    {
      "cell_type": "code",
      "source": [
        "import random\n",
        "import numpy as np\n",
        "import pandas as pd\n",
        "import corus\n",
        "import re\n",
        "import nltk\n",
        "import string\n",
        "import pymorphy3\n",
        "from pymorphy3 import MorphAnalyzer\n",
        "from multiprocessing import Pool\n",
        "from sklearn.model_selection import train_test_split, cross_val_score\n",
        "from sklearn.feature_extraction.text import TfidfVectorizer\n",
        "from sklearn.linear_model import LogisticRegression\n",
        "from sklearn.ensemble import RandomForestClassifier\n",
        "from sklearn.naive_bayes import MultinomialNB\n",
        "from sklearn.pipeline import Pipeline\n",
        "from sklearn.dummy import DummyClassifier\n",
        "from sklearn.metrics import accuracy_score\n",
        "from nltk.corpus import stopwords\n",
        "from imblearn.over_sampling import SMOTE"
      ],
      "metadata": {
        "id": "3qhhFyzcsYzL"
      },
      "execution_count": 4,
      "outputs": []
    },
    {
      "cell_type": "markdown",
      "source": [
        "Fixed Random Seeds: Ensures consistent data splits and model initialization\n",
        "\n",
        "Justification: Required for reproducible ML experiments"
      ],
      "metadata": {
        "id": "ymcLwbu7SFWS"
      }
    },
    {
      "cell_type": "code",
      "source": [
        "# Fix random seed for reproducibility\n",
        "random_state = 42\n",
        "np.random.seed(random_state)\n",
        "random.seed(random_state)\n",
        "nltk.download(\"stopwords\")"
      ],
      "metadata": {
        "id": "MKDpoMxKuHAC",
        "colab": {
          "base_uri": "https://localhost:8080/"
        },
        "outputId": "60045830-8d0e-43b7-b79e-4d1d1dfb1c53"
      },
      "execution_count": 5,
      "outputs": [
        {
          "output_type": "stream",
          "name": "stderr",
          "text": [
            "[nltk_data] Downloading package stopwords to /root/nltk_data...\n",
            "[nltk_data]   Unzipping corpora/stopwords.zip.\n"
          ]
        },
        {
          "output_type": "execute_result",
          "data": {
            "text/plain": [
              "True"
            ]
          },
          "metadata": {},
          "execution_count": 5
        }
      ]
    },
    {
      "cell_type": "code",
      "source": [
        "# Initialize pymorphy3 lemmatizer\n",
        "morph = pymorphy3.MorphAnalyzer()"
      ],
      "metadata": {
        "id": "MxD7vjmlUk65"
      },
      "execution_count": 6,
      "outputs": []
    },
    {
      "cell_type": "code",
      "source": [
        "# Function to lemmatize text using pymorphy3\n",
        "def lemmatize_text(text):\n",
        "    return \" \".join([morph.parse(word)[0].normal_form for word in text.split()])"
      ],
      "metadata": {
        "id": "wkdIyhs1QQvI"
      },
      "execution_count": 7,
      "outputs": []
    },
    {
      "cell_type": "code",
      "source": [
        "# Download the Lenta dataset\n",
        "!wget -q https://github.com/yutkin/Lenta.Ru-News-Dataset/releases/download/v1.0/lenta-ru-news.csv.gz\n",
        "from corus import load_lenta\n",
        "\n",
        "path = 'lenta-ru-news.csv.gz'\n",
        "records = load_lenta(path)  # Lazy loading"
      ],
      "metadata": {
        "id": "8-a581KcM_Io"
      },
      "execution_count": 8,
      "outputs": []
    },
    {
      "cell_type": "markdown",
      "source": [
        "Sampling: Limits to 10k samples for faster testing.\n",
        "\n",
        "Progress Tracking: Uses tqdm for real-time loading status.\n",
        "\n",
        "Random Sampling: Stratified sampling maintains class distribution."
      ],
      "metadata": {
        "id": "qfcpKkg9gvAE"
      }
    },
    {
      "cell_type": "code",
      "source": [
        "# Load dataset into DataFrame\n",
        "def load_lenta_data(limit=10000):\n",
        "    data = []\n",
        "    for i, record in enumerate(records):\n",
        "        if i >= limit:\n",
        "            break\n",
        "        data.append((record.title, record.text, record.topic))\n",
        "    return pd.DataFrame(data, columns=[\"title\", \"text\", \"topic\"])\n",
        "\n",
        "df = load_lenta_data()"
      ],
      "metadata": {
        "id": "OVVbsDWdQVz6"
      },
      "execution_count": 9,
      "outputs": []
    },
    {
      "cell_type": "markdown",
      "source": [
        "Cleaning: Removes noise (digits, punctuation) and normalizes case.\n",
        "\n",
        "Lemmatization: Uses pymorphy3 for accurate Russian word normalization.\n",
        "\n",
        "Justification: Preprocessing improves model performance by reducing noise."
      ],
      "metadata": {
        "id": "YOkLyEuUgqym"
      }
    },
    {
      "cell_type": "code",
      "source": [
        "# Function for basic text preprocessing\n",
        "def preprocess_text(text):\n",
        "    text = text.lower()  # Convert to lowercase\n",
        "    text = re.sub(r\"\\d+\", \"\", text)  # Remove digits\n",
        "    text = text.translate(str.maketrans(\"\", \"\", string.punctuation))  # Remove punctuation\n",
        "    return lemmatize_text(text)  # Lemmatize text"
      ],
      "metadata": {
        "id": "-KhZrk1dNKAi"
      },
      "execution_count": 10,
      "outputs": []
    },
    {
      "cell_type": "code",
      "source": [
        "# Remove missing and empty values\n",
        "df = df.dropna()\n",
        "df = df[df[\"text\"].str.strip() != \"\"]"
      ],
      "metadata": {
        "id": "HaU70oWXuQoH"
      },
      "execution_count": 11,
      "outputs": []
    },
    {
      "cell_type": "code",
      "source": [
        "from tqdm import tqdm  # Progress bar for tracking execution time\n",
        "\n",
        "tqdm.pandas()  # Enable progress_apply\n",
        "\n",
        "df[\"processed_text\"] = df[\"text\"].progress_apply(preprocess_text)"
      ],
      "metadata": {
        "id": "Sn-u_ydoNUNy",
        "colab": {
          "base_uri": "https://localhost:8080/"
        },
        "outputId": "e874569d-1a40-487c-e55a-e47547210f36"
      },
      "execution_count": 12,
      "outputs": [
        {
          "output_type": "stream",
          "name": "stderr",
          "text": [
            "100%|██████████| 10000/10000 [05:28<00:00, 30.41it/s]\n"
          ]
        }
      ]
    },
    {
      "cell_type": "code",
      "source": [
        "# Encode categorical topics\n",
        "df[\"processed_topic\"] = df[\"topic\"].astype(\"category\").cat.codes"
      ],
      "metadata": {
        "id": "hIMdvSkBNWyG"
      },
      "execution_count": 13,
      "outputs": []
    },
    {
      "cell_type": "code",
      "source": [
        "# Filter out underrepresented categories\n",
        "category_counts = df[\"processed_topic\"].value_counts()\n",
        "valid_categories = category_counts[category_counts >= 2].index\n",
        "df = df[df[\"processed_topic\"].isin(valid_categories)]"
      ],
      "metadata": {
        "id": "77t57ZgGxwqz"
      },
      "execution_count": 14,
      "outputs": []
    },
    {
      "cell_type": "code",
      "source": [
        "# Split dataset into train, validation, and test sets\n",
        "X_train, X_temp, y_train, y_temp = train_test_split(\n",
        "    df[\"processed_text\"], df[\"processed_topic\"], test_size=0.4, stratify=df[\"processed_topic\"], random_state=random_state\n",
        ")"
      ],
      "metadata": {
        "id": "smBxdVbu4e3_"
      },
      "execution_count": 15,
      "outputs": []
    },
    {
      "cell_type": "markdown",
      "source": [
        "max_df=0.9: Ignores terms that appear in >90% of documents.\n",
        "\n",
        "min_df=2: Ignores terms that appear in < 2 documents.\n",
        "\n",
        "ngram_range=(1, 2): Captures unigrams and bigrams.\n",
        "\n",
        "sublinear_tf=True: Applies sublinear TF scaling to reduce impact of frequent terms.\n",
        "\n",
        "Justification: TF-IDF is effective for text classification tasks."
      ],
      "metadata": {
        "id": "VMZytcUpdEzC"
      }
    },
    {
      "cell_type": "code",
      "source": [
        "# TF-IDF vectorization\n",
        "vectorizer = TfidfVectorizer(max_df=0.9, min_df=2, ngram_range=(1, 2), sublinear_tf=True)\n",
        "X_train_tfidf = vectorizer.fit_transform(X_train)  # Transform training data"
      ],
      "metadata": {
        "id": "7gGRKZAJHJTN"
      },
      "execution_count": 16,
      "outputs": []
    },
    {
      "cell_type": "markdown",
      "source": [
        "SMOTE Choice: Generates synthetic samples for minority classes.\n",
        "\n",
        "k_neighbors=1: Reduces overfitting by limiting synthetic sample generation.\n",
        "\n",
        "Justification: SMOTE improves model performance on imbalanced datasets."
      ],
      "metadata": {
        "id": "dfj1pstleD1z"
      }
    },
    {
      "cell_type": "code",
      "source": [
        "# Apply SMOTE for balancing classes\n",
        "smote = SMOTE(sampling_strategy='auto', random_state=random_state, k_neighbors=1)\n",
        "X_train_resampled, y_train_resampled = smote.fit_resample(X_train_tfidf, y_train.to_numpy().ravel())"
      ],
      "metadata": {
        "id": "m1atUVfYG8fh"
      },
      "execution_count": 17,
      "outputs": []
    },
    {
      "cell_type": "markdown",
      "source": [
        "Rare Class Filtering: Removes topics with < 2 samples to prevent stratification errors.\n",
        "\n",
        "Justification: Ensures all classes have sufficient samples for training."
      ],
      "metadata": {
        "id": "yZlfCcyscNim"
      }
    },
    {
      "cell_type": "code",
      "source": [
        "# Ensure all classes in y_temp have at least 2 instances before splitting\n",
        "class_counts = y_temp.value_counts()\n",
        "valid_classes = class_counts[class_counts >= 2].index\n",
        "y_temp_filtered = y_temp[y_temp.isin(valid_classes)]\n",
        "X_temp_filtered = X_temp.loc[y_temp_filtered.index]\n",
        "\n",
        "if len(np.unique(y_temp_filtered)) > 1:\n",
        "    X_val, X_test, y_val, y_test = train_test_split(\n",
        "        X_temp_filtered, y_temp_filtered, test_size=0.5, stratify=y_temp_filtered, random_state=random_state\n",
        "    )\n",
        "else:\n",
        "    raise ValueError(\"Not enough instances per class in y_temp for stratified split.\")"
      ],
      "metadata": {
        "id": "QN_ESQtPHBdU"
      },
      "execution_count": 18,
      "outputs": []
    },
    {
      "cell_type": "code",
      "source": [
        "# Transform validation and test sets using the same TF-IDF vectorizer\n",
        "X_val_tfidf = vectorizer.transform(X_val)\n",
        "X_test_tfidf = vectorizer.transform(X_test)"
      ],
      "metadata": {
        "id": "7N1nBgtsMIHI"
      },
      "execution_count": 19,
      "outputs": []
    },
    {
      "cell_type": "markdown",
      "source": [
        "Dummy Accuracy: Provides a baseline for model performance.\n",
        "\n",
        "Justification: Ensures models perform better than random guessing."
      ],
      "metadata": {
        "id": "fG_3DrrbcGga"
      }
    },
    {
      "cell_type": "code",
      "source": [
        "# Dummy classifier for baseline comparison\n",
        "dummy = DummyClassifier(strategy=\"most_frequent\")\n",
        "dummy.fit(X_train_resampled, y_train_resampled)\n",
        "y_pred_dummy = dummy.predict(X_test_tfidf)\n",
        "print(\"Dummy accuracy:\", accuracy_score(y_test, y_pred_dummy))"
      ],
      "metadata": {
        "id": "L1YTqI3pHGYg",
        "colab": {
          "base_uri": "https://localhost:8080/"
        },
        "outputId": "77ce5d31-2e5f-4a09-bbae-47c71063bc37"
      },
      "execution_count": 20,
      "outputs": [
        {
          "output_type": "stream",
          "name": "stdout",
          "text": [
            "Dummy accuracy: 0.0\n"
          ]
        }
      ]
    },
    {
      "cell_type": "markdown",
      "source": [
        "Logistic Regression: Best baseline for text classification.\n",
        "\n",
        "Random Forest: Robust to overfitting and handles non-linear relationships.\n",
        "\n",
        "Naïve Bayes: Fast and effective for high-dimensional text data.\n",
        "\n",
        "Justification: These models are widely used for text classification tasks."
      ],
      "metadata": {
        "id": "wTmUIVMhc1_W"
      }
    },
    {
      "cell_type": "code",
      "source": [
        "# Define classification models\n",
        "models = {\n",
        "    \"Logistic Regression\": LogisticRegression(C=1.0, solver=\"liblinear\", random_state=random_state),\n",
        "    \"Random Forest\": RandomForestClassifier(n_estimators=200, random_state=random_state),\n",
        "    \"Naïve Bayes\": MultinomialNB()\n",
        "}"
      ],
      "metadata": {
        "id": "TFKs7IrbHMH-"
      },
      "execution_count": 21,
      "outputs": []
    },
    {
      "cell_type": "markdown",
      "source": [
        "Justification: Cross-validation ensures reliable performance estimates."
      ],
      "metadata": {
        "id": "-yb-jy17cvnl"
      }
    },
    {
      "cell_type": "code",
      "source": [
        "# Evaluate models using cross-validation\n",
        "for model_name, model in models.items():\n",
        "    pipeline = Pipeline([\n",
        "        (\"classifier\", model)\n",
        "    ])\n",
        "    scores = cross_val_score(pipeline, X_train_resampled, y_train_resampled, cv=5, scoring=\"accuracy\")\n",
        "    print(f\"{model_name} mean accuracy: {np.mean(scores):.4f}\")"
      ],
      "metadata": {
        "id": "UvV7b5ZiHNMg",
        "colab": {
          "base_uri": "https://localhost:8080/"
        },
        "outputId": "696017aa-2fea-4097-f299-92ce49870e5d"
      },
      "execution_count": 22,
      "outputs": [
        {
          "output_type": "stream",
          "name": "stdout",
          "text": [
            "Logistic Regression mean accuracy: 0.9473\n",
            "Random Forest mean accuracy: 0.9394\n",
            "Naïve Bayes mean accuracy: 0.9192\n"
          ]
        }
      ]
    },
    {
      "cell_type": "markdown",
      "source": [
        "Justification: Logistic Regression was chosen as the final model due to its highest cross-validation accuracy."
      ],
      "metadata": {
        "id": "DkmvGOwecfxF"
      }
    },
    {
      "cell_type": "code",
      "source": [
        "# Train final model on best-performing classifier\n",
        "final_pipeline = Pipeline([\n",
        "    (\"classifier\", LogisticRegression(C=1.0, solver=\"liblinear\", random_state=random_state))\n",
        "])\n",
        "final_pipeline.fit(X_train_resampled, y_train_resampled)\n",
        "y_pred = final_pipeline.predict(X_test_tfidf)\n",
        "print(\"Final accuracy:\", accuracy_score(y_test, y_pred))"
      ],
      "metadata": {
        "id": "uXXnCrsMHTdN",
        "colab": {
          "base_uri": "https://localhost:8080/"
        },
        "outputId": "ac69b16f-a468-4f22-aac2-51a2a8eb649c"
      },
      "execution_count": 23,
      "outputs": [
        {
          "output_type": "stream",
          "name": "stdout",
          "text": [
            "Final accuracy: 0.851\n"
          ]
        }
      ]
    },
    {
      "cell_type": "markdown",
      "source": [
        "Summary of Results\n",
        "Cross-Validation Accuracies:\n",
        "\n",
        "Logistic Regression: 0.9473\n",
        "\n",
        "Random Forest: 0.9394\n",
        "\n",
        "Naïve Bayes: 0.9192\n",
        "\n",
        "Final Test Accuracy: 0.851"
      ],
      "metadata": {
        "id": "DrINCIfTb-VW"
      }
    },
    {
      "cell_type": "code",
      "source": [
        "# Save the preprocessed data to a file\n",
        "df.to_csv(\"preprocessed_data.csv\", index=False)"
      ],
      "metadata": {
        "id": "H7H0I2MBMCip"
      },
      "execution_count": 24,
      "outputs": []
    },
    {
      "cell_type": "code",
      "source": [
        "# Load the preprocessed data\n",
        "df = pd.read_csv(\"preprocessed_data.csv\")"
      ],
      "metadata": {
        "id": "D7QvV4WtMHQz"
      },
      "execution_count": 26,
      "outputs": []
    },
    {
      "cell_type": "markdown",
      "source": [
        "# Домашнее задание 2"
      ],
      "metadata": {
        "id": "xvx2pLROB-hO"
      }
    },
    {
      "cell_type": "code",
      "source": [
        "# Reuse the splits from Homework 1\n",
        "X_train, X_val, X_test, y_train, y_val, y_test"
      ],
      "metadata": {
        "collapsed": true,
        "colab": {
          "base_uri": "https://localhost:8080/"
        },
        "id": "t_QdmuLQQFDS",
        "outputId": "037eaf8f-0669-42d9-a8ec-0f9580cfdae3"
      },
      "execution_count": 29,
      "outputs": [
        {
          "output_type": "execute_result",
          "data": {
            "text/plain": [
              "(3729    в москва таксист из киргизия прождать пассажир...\n",
              " 8448    десять немецкий мина калибр миллиметр обнаружи...\n",
              " 6731    у студент владислав росляков который устроить ...\n",
              " 1810    самый высокооплачиваемый youtubeблогер в мир с...\n",
              " 2393    пользователь сеть отреагировать на массовый от...\n",
              "                               ...                        \n",
              " 754     барабанщик альтернативный рокгруппа «animal дж...\n",
              " 9518    парламент армения выступить против предложение...\n",
              " 3721    японский компания shiseido выпустить серия дек...\n",
              " 2802    в колония строгий режим для осудить правоохран...\n",
              " 4872    кинокритик стюарт хэритэдж назвать «ужасный и ...\n",
              " Name: processed_text, Length: 5999, dtype: object,\n",
              " 728     российский сотрудник полиция запретить посещат...\n",
              " 8076    истребитель пятый поколение укоротить взлёт и ...\n",
              " 2969    российский биатлонист антон шипулина рассказат...\n",
              " 890     бывший глава ирбейский район красноярский край...\n",
              " 2958    верховный рада украина принять проект государс...\n",
              "                               ...                        \n",
              " 5626    чемпион абсолютный бойцовский чемпионат ufc в ...\n",
              " 5076    американский актриса джулия робертс объяснить ...\n",
              " 2436    в австрия объявить в розыск три человек подозр...\n",
              " 650     на экран в подъезд жилой дом в район марьино в...\n",
              " 8945    участница реалитишоу «семейство кардашьян» ким...\n",
              " Name: processed_text, Length: 1999, dtype: object,\n",
              " 7119    рабочий группа конституционный комиссия украин...\n",
              " 5606    нападать петербургский «зенита» александр коко...\n",
              " 8330    в австралийский штат квинсленд женщина в время...\n",
              " 9336    сотрудник японский университет кобе быть пойма...\n",
              " 2695    российский фигуристка евгений медведев рассказ...\n",
              "                               ...                        \n",
              " 9506    в время поездка по река дэйль на северный терр...\n",
              " 5608    попытка нетрезвый посетитель зоопарк погладить...\n",
              " 8405    представитель «роскосмоса» опубликовать видео ...\n",
              " 2939    цена баррель нефть марка brent опуститься до д...\n",
              " 5904    россия занять место в рейтинг лёгкость ведение...\n",
              " Name: processed_text, Length: 2000, dtype: object,\n",
              " 3729     5\n",
              " 8448     1\n",
              " 6731    12\n",
              " 1810     6\n",
              " 2393     7\n",
              "         ..\n",
              " 754      7\n",
              " 9518     3\n",
              " 3721    14\n",
              " 2802    12\n",
              " 4872     7\n",
              " Name: processed_topic, Length: 5999, dtype: int8,\n",
              " 728      7\n",
              " 8076     9\n",
              " 2969    13\n",
              " 890     12\n",
              " 2958    15\n",
              "         ..\n",
              " 5626    13\n",
              " 5076     7\n",
              " 2436     8\n",
              " 650     11\n",
              " 8945    14\n",
              " Name: processed_topic, Length: 1999, dtype: int8,\n",
              " 7119     3\n",
              " 5606    13\n",
              " 8330     5\n",
              " 9336     5\n",
              " 2695    13\n",
              "         ..\n",
              " 9506     5\n",
              " 5608     5\n",
              " 8405     6\n",
              " 2939    15\n",
              " 5904    15\n",
              " Name: processed_topic, Length: 2000, dtype: int8)"
            ]
          },
          "metadata": {},
          "execution_count": 29
        }
      ]
    },
    {
      "cell_type": "markdown",
      "source": [
        "Фиксация random_state обеспечивает воспроизводимость результатов в разных прогонах."
      ],
      "metadata": {
        "id": "fzCGD3sMdQyW"
      }
    },
    {
      "cell_type": "markdown",
      "source": [
        "Стратифицированное разбиение гарантирует, что распределение классов сохраняется во всех наборах."
      ],
      "metadata": {
        "id": "-ZDEpyqSdRy2"
      }
    },
    {
      "cell_type": "code",
      "source": [
        "import random\n",
        "import numpy as np\n",
        "import pandas as pd\n",
        "import re\n",
        "import nltk\n",
        "import string\n",
        "from nltk.tokenize import word_tokenize\n",
        "from sklearn.model_selection import train_test_split\n",
        "from sklearn.feature_extraction.text import TfidfVectorizer\n",
        "from sklearn.linear_model import LogisticRegression\n",
        "from sklearn.metrics import accuracy_score\n",
        "\n",
        "# Fix random seed for reproducibility\n",
        "random_state = 42\n",
        "np.random.seed(random_state)\n",
        "random.seed(random_state)\n",
        "nltk.download(\"punkt\")\n",
        "\n",
        "\n",
        "# Preprocessing function\n",
        "def preprocess_text(text):\n",
        "    text = text.lower()  # Convert to lowercase\n",
        "    text = re.sub(r\"\\d+\", \"\", text)  # Remove digits\n",
        "    text = text.translate(str.maketrans(\"\", \"\", string.punctuation))  # Remove punctuation\n",
        "    return text\n",
        "\n",
        "# Apply preprocessing\n",
        "df[\"processed_text\"] = df[\"text\"].apply(preprocess_text)\n",
        "\n",
        "# Remove rows with missing values\n",
        "df = df.dropna()\n",
        "\n",
        "# Remove rows where 'processed_text' is an empty string\n",
        "df = df[df[\"processed_text\"].str.strip() != \"\"]\n",
        "\n",
        "# Split dataset into train, validation, and test sets\n",
        "X_train, X_temp, y_train, y_temp = train_test_split(\n",
        "    df[\"processed_text\"], df[\"topic\"], test_size=0.4, stratify=df[\"topic\"], random_state=random_state\n",
        ")\n",
        "X_val, X_test, y_val, y_test = train_test_split(\n",
        "    X_temp, y_temp, test_size=0.5, stratify=y_temp, random_state=random_state\n",
        ")"
      ],
      "metadata": {
        "colab": {
          "base_uri": "https://localhost:8080/"
        },
        "id": "CL5mOJRhQnnv",
        "outputId": "d45bd029-8cec-4721-dd4e-f5a40196b404"
      },
      "execution_count": 33,
      "outputs": [
        {
          "output_type": "stream",
          "name": "stderr",
          "text": [
            "[nltk_data] Downloading package punkt to /root/nltk_data...\n",
            "[nltk_data]   Package punkt is already up-to-date!\n"
          ]
        }
      ]
    },
    {
      "cell_type": "markdown",
      "source": [
        "Вкрапления GloVe предварительно обучены на больших корпорациях и отражают глобальную статистику совпадений слов."
      ],
      "metadata": {
        "id": "MDJGb5rMdawf"
      }
    },
    {
      "cell_type": "markdown",
      "source": [
        " Они более эффективны и действенны, чем обучение Word2Vec с нуля на небольшом наборе данных."
      ],
      "metadata": {
        "id": "Oy6gvSIgdhuB"
      }
    },
    {
      "cell_type": "code",
      "source": [
        "# Download GloVe embeddings\n",
        "!wget http://nlp.stanford.edu/data/glove.6B.zip\n",
        "!unzip glove.6B.zip"
      ],
      "metadata": {
        "id": "zC2kteQJYwjm"
      },
      "execution_count": null,
      "outputs": []
    },
    {
      "cell_type": "markdown",
      "source": [
        "Загрузите необходимый ресурс NLTK для токенизации"
      ],
      "metadata": {
        "id": "a4zH103adoI1"
      }
    },
    {
      "cell_type": "code",
      "source": [
        "import nltk\n",
        "nltk.download('punkt_tab')"
      ],
      "metadata": {
        "colab": {
          "base_uri": "https://localhost:8080/"
        },
        "id": "rEJ6565CY09m",
        "outputId": "4a08fc85-db90-4d28-f065-0bd11e407391"
      },
      "execution_count": 38,
      "outputs": [
        {
          "output_type": "stream",
          "name": "stderr",
          "text": [
            "[nltk_data] Downloading package punkt_tab to /root/nltk_data...\n",
            "[nltk_data]   Unzipping tokenizers/punkt_tab.zip.\n"
          ]
        },
        {
          "output_type": "execute_result",
          "data": {
            "text/plain": [
              "True"
            ]
          },
          "metadata": {},
          "execution_count": 38
        }
      ]
    },
    {
      "cell_type": "code",
      "source": [
        "# Check if the resource is downloaded\n",
        "nltk.data.find('tokenizers/punkt')"
      ],
      "metadata": {
        "colab": {
          "base_uri": "https://localhost:8080/",
          "height": 35
        },
        "id": "Uxn6ojQXY3SF",
        "outputId": "257a81e0-acb0-49ac-be62-7535580ed068"
      },
      "execution_count": 39,
      "outputs": [
        {
          "output_type": "execute_result",
          "data": {
            "text/plain": [
              "FileSystemPathPointer('/root/nltk_data/tokenizers/punkt')"
            ],
            "application/vnd.google.colaboratory.intrinsic+json": {
              "type": "string"
            }
          },
          "metadata": {},
          "execution_count": 39
        }
      ]
    },
    {
      "cell_type": "markdown",
      "source": [
        "Загрузка вкраплений GloVe"
      ],
      "metadata": {
        "id": "b0eBdEKMdwJZ"
      }
    },
    {
      "cell_type": "markdown",
      "source": [
        "Обучение логистической регрессии с вкраплениями GloVe\n",
        "Обоснование: Логистическая регрессия является сильной базой для задач классификации текста."
      ],
      "metadata": {
        "id": "yVYUjT90d8M3"
      }
    },
    {
      "cell_type": "code",
      "source": [
        "# Load GloVe embeddings\n",
        "def load_glove_embeddings(glove_path):\n",
        "    embeddings = {}\n",
        "    with open(glove_path, 'r', encoding='utf-8') as f:\n",
        "        for line in f:\n",
        "            values = line.split()\n",
        "            word = values[0]\n",
        "            vector = np.array(values[1:], dtype='float32')\n",
        "            embeddings[word] = vector\n",
        "    return embeddings\n",
        "\n",
        "glove_path = \"glove.6B.100d.txt\"  # Path to GloVe file\n",
        "glove_embeddings = load_glove_embeddings(glove_path)\n",
        "\n",
        "# Function to get average vector for a text\n",
        "def get_average_vector(text, embeddings):\n",
        "    words = word_tokenize(text)\n",
        "    vectors = [embeddings[word] for word in words if word in embeddings]\n",
        "    if len(vectors) > 0:\n",
        "        return np.mean(vectors, axis=0)\n",
        "    else:\n",
        "        return np.zeros(100)  # Assuming 100-dimensional embeddings\n",
        "\n",
        "# Convert texts to vectors\n",
        "X_train_glove = np.array([get_average_vector(text, glove_embeddings) for text in X_train])\n",
        "X_val_glove = np.array([get_average_vector(text, glove_embeddings) for text in X_val])\n",
        "X_test_glove = np.array([get_average_vector(text, glove_embeddings) for text in X_test])\n",
        "\n",
        "# Train LogisticRegression\n",
        "logreg_glove = LogisticRegression(random_state=random_state)\n",
        "logreg_glove.fit(X_train_glove, y_train)\n",
        "\n",
        "# Evaluate on validation set\n",
        "val_accuracy_glove = logreg_glove.score(X_val_glove, y_val)\n",
        "print(f\"Validation accuracy with GloVe embeddings: {val_accuracy_glove:.4f}\")"
      ],
      "metadata": {
        "colab": {
          "base_uri": "https://localhost:8080/"
        },
        "id": "7EHzBTorJmtQ",
        "outputId": "eb0a3ebc-82ea-4f45-d01b-577c47438b0e"
      },
      "execution_count": 40,
      "outputs": [
        {
          "output_type": "stream",
          "name": "stdout",
          "text": [
            "Validation accuracy with GloVe embeddings: 0.4237\n"
          ]
        },
        {
          "output_type": "stream",
          "name": "stderr",
          "text": [
            "/usr/local/lib/python3.11/dist-packages/sklearn/linear_model/_logistic.py:465: ConvergenceWarning: lbfgs failed to converge (status=1):\n",
            "STOP: TOTAL NO. of ITERATIONS REACHED LIMIT.\n",
            "\n",
            "Increase the number of iterations (max_iter) or scale the data as shown in:\n",
            "    https://scikit-learn.org/stable/modules/preprocessing.html\n",
            "Please also refer to the documentation for alternative solver options:\n",
            "    https://scikit-learn.org/stable/modules/linear_model.html#logistic-regression\n",
            "  n_iter_i = _check_optimize_result(\n"
          ]
        }
      ]
    },
    {
      "cell_type": "markdown",
      "source": [
        "Векторизация TF-IDF\n",
        "Обоснование: TF-IDF отражает важность слов в документе относительно корпуса.\n",
        "Это простой и эффективный способ представления текста для классификации."
      ],
      "metadata": {
        "id": "68rmGrEweCtJ"
      }
    },
    {
      "cell_type": "code",
      "source": [
        "# TF-IDF vectorization\n",
        "vectorizer = TfidfVectorizer(max_df=0.9, min_df=2, ngram_range=(1, 2), sublinear_tf=True)\n",
        "X_train_tfidf = vectorizer.fit_transform(X_train)\n",
        "X_val_tfidf = vectorizer.transform(X_val)\n",
        "X_test_tfidf = vectorizer.transform(X_test)\n",
        "\n",
        "# Train LogisticRegression\n",
        "logreg_tfidf = LogisticRegression(random_state=random_state)\n",
        "logreg_tfidf.fit(X_train_tfidf, y_train)\n",
        "\n",
        "# Evaluate on validation set\n",
        "val_accuracy_tfidf = logreg_tfidf.score(X_val_tfidf, y_val)\n",
        "print(f\"Validation accuracy with TF-IDF: {val_accuracy_tfidf:.4f}\")"
      ],
      "metadata": {
        "colab": {
          "base_uri": "https://localhost:8080/"
        },
        "id": "EYzKz3-QQRH2",
        "outputId": "a5dd94c4-9cbf-421a-a1d6-6de4fecd34ce"
      },
      "execution_count": 41,
      "outputs": [
        {
          "output_type": "stream",
          "name": "stdout",
          "text": [
            "Validation accuracy with TF-IDF: 0.8024\n"
          ]
        }
      ]
    },
    {
      "cell_type": "code",
      "source": [
        "# Evaluate GloVe model on test set\n",
        "test_accuracy_glove = logreg_glove.score(X_test_glove, y_test)\n",
        "print(f\"Test accuracy with GloVe embeddings: {test_accuracy_glove:.4f}\")\n",
        "\n",
        "# Evaluate TF-IDF model on test set\n",
        "test_accuracy_tfidf = logreg_tfidf.score(X_test_tfidf, y_test)\n",
        "print(f\"Test accuracy with TF-IDF: {test_accuracy_tfidf:.4f}\")"
      ],
      "metadata": {
        "colab": {
          "base_uri": "https://localhost:8080/"
        },
        "id": "DCN2Zw9pQU-1",
        "outputId": "d7439bab-81d3-420d-c6e1-1c5007ef8115"
      },
      "execution_count": 42,
      "outputs": [
        {
          "output_type": "stream",
          "name": "stdout",
          "text": [
            "Test accuracy with GloVe embeddings: 0.4325\n",
            "Test accuracy with TF-IDF: 0.8100\n"
          ]
        }
      ]
    },
    {
      "cell_type": "markdown",
      "source": [
        "Вкрапления GloVe предварительно обучены на больших корпорациях и собирают глобальную статистику совпадений слов. Они более эффективны и действенны, чем обучение Word2Vec с нуля на небольшом наборе данных.  ◦ Обучение Word2Vec с нуля требует большого корпуса и вычислительных ресурсов, что может быть невыполнимо для небольших наборов данных"
      ],
      "metadata": {
        "id": "sZPfj2VHeK0K"
      }
    },
    {
      "cell_type": "markdown",
      "source": [
        "Results Summary\n",
        "Validation accuracy with GloVe embeddings: 0.4325\n",
        "\n",
        "Validation accuracy with TF-IDF: 0.8024\n",
        "\n",
        "Test accuracy with GloVe embeddings: 0.4325\n",
        "\n",
        "Test accuracy with TF-IDF: 0.8100"
      ],
      "metadata": {
        "id": "F62uWtfUeSDX"
      }
    }
  ]
}