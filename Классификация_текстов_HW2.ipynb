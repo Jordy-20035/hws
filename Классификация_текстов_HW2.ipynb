{
  "nbformat": 4,
  "nbformat_minor": 0,
  "metadata": {
    "colab": {
      "provenance": [],
      "gpuType": "T4",
      "include_colab_link": true
    },
    "kernelspec": {
      "name": "python3",
      "display_name": "Python 3"
    },
    "language_info": {
      "name": "python"
    }
  },
  "cells": [
    {
      "cell_type": "markdown",
      "metadata": {
        "id": "view-in-github",
        "colab_type": "text"
      },
      "source": [
        "<a href=\"https://colab.research.google.com/github/Jordy-20035/hws/blob/hw2/%D0%9A%D0%BB%D0%B0%D1%81%D1%81%D0%B8%D1%84%D0%B8%D0%BA%D0%B0%D1%86%D0%B8%D1%8F_%D1%82%D0%B5%D0%BA%D1%81%D1%82%D0%BE%D0%B2_HW2.ipynb\" target=\"_parent\"><img src=\"https://colab.research.google.com/assets/colab-badge.svg\" alt=\"Open In Colab\"/></a>"
      ]
    },
    {
      "cell_type": "code",
      "source": [
        "!pip uninstall pymorphy2 -y"
      ],
      "metadata": {
        "colab": {
          "base_uri": "https://localhost:8080/"
        },
        "id": "pNcRluFCWHg3",
        "outputId": "d5308a8f-81ac-42b1-9da0-4726036e54c2"
      },
      "execution_count": null,
      "outputs": [
        {
          "output_type": "stream",
          "name": "stdout",
          "text": [
            "Found existing installation: pymorphy2 0.9.1\n",
            "Uninstalling pymorphy2-0.9.1:\n",
            "  Successfully uninstalled pymorphy2-0.9.1\n"
          ]
        }
      ]
    },
    {
      "cell_type": "code",
      "source": [
        "!pip install corus py imbalanced-learn pymorphy3 pymorphy3-dicts-ru joblib tqdm"
      ],
      "metadata": {
        "id": "junnl9DyevTg",
        "colab": {
          "base_uri": "https://localhost:8080/"
        },
        "collapsed": true,
        "outputId": "4050c4b4-6f46-4783-aaf3-25d17e8c0756"
      },
      "execution_count": null,
      "outputs": [
        {
          "output_type": "stream",
          "name": "stdout",
          "text": [
            "Collecting corus\n",
            "  Downloading corus-0.10.0-py3-none-any.whl.metadata (31 kB)\n",
            "Collecting py\n",
            "  Downloading py-1.11.0-py2.py3-none-any.whl.metadata (2.8 kB)\n",
            "Requirement already satisfied: imbalanced-learn in /usr/local/lib/python3.11/dist-packages (0.13.0)\n",
            "Collecting pymorphy3\n",
            "  Downloading pymorphy3-2.0.3-py3-none-any.whl.metadata (1.9 kB)\n",
            "Collecting pymorphy3-dicts-ru\n",
            "  Downloading pymorphy3_dicts_ru-2.4.417150.4580142-py2.py3-none-any.whl.metadata (2.0 kB)\n",
            "Requirement already satisfied: joblib in /usr/local/lib/python3.11/dist-packages (1.4.2)\n",
            "Requirement already satisfied: tqdm in /usr/local/lib/python3.11/dist-packages (4.67.1)\n",
            "Requirement already satisfied: numpy<3,>=1.24.3 in /usr/local/lib/python3.11/dist-packages (from imbalanced-learn) (1.26.4)\n",
            "Requirement already satisfied: scipy<2,>=1.10.1 in /usr/local/lib/python3.11/dist-packages (from imbalanced-learn) (1.14.1)\n",
            "Requirement already satisfied: scikit-learn<2,>=1.3.2 in /usr/local/lib/python3.11/dist-packages (from imbalanced-learn) (1.6.1)\n",
            "Requirement already satisfied: sklearn-compat<1,>=0.1 in /usr/local/lib/python3.11/dist-packages (from imbalanced-learn) (0.1.3)\n",
            "Requirement already satisfied: threadpoolctl<4,>=2.0.0 in /usr/local/lib/python3.11/dist-packages (from imbalanced-learn) (3.5.0)\n",
            "Collecting dawg2-python>=0.8.0 (from pymorphy3)\n",
            "  Downloading dawg2_python-0.9.0-py3-none-any.whl.metadata (7.5 kB)\n",
            "Downloading corus-0.10.0-py3-none-any.whl (83 kB)\n",
            "\u001b[2K   \u001b[90m━━━━━━━━━━━━━━━━━━━━━━━━━━━━━━━━━━━━━━━━\u001b[0m \u001b[32m83.7/83.7 kB\u001b[0m \u001b[31m4.3 MB/s\u001b[0m eta \u001b[36m0:00:00\u001b[0m\n",
            "\u001b[?25hDownloading py-1.11.0-py2.py3-none-any.whl (98 kB)\n",
            "\u001b[2K   \u001b[90m━━━━━━━━━━━━━━━━━━━━━━━━━━━━━━━━━━━━━━━━\u001b[0m \u001b[32m98.7/98.7 kB\u001b[0m \u001b[31m7.0 MB/s\u001b[0m eta \u001b[36m0:00:00\u001b[0m\n",
            "\u001b[?25hDownloading pymorphy3-2.0.3-py3-none-any.whl (53 kB)\n",
            "\u001b[2K   \u001b[90m━━━━━━━━━━━━━━━━━━━━━━━━━━━━━━━━━━━━━━━━\u001b[0m \u001b[32m53.8/53.8 kB\u001b[0m \u001b[31m3.9 MB/s\u001b[0m eta \u001b[36m0:00:00\u001b[0m\n",
            "\u001b[?25hDownloading pymorphy3_dicts_ru-2.4.417150.4580142-py2.py3-none-any.whl (8.4 MB)\n",
            "\u001b[2K   \u001b[90m━━━━━━━━━━━━━━━━━━━━━━━━━━━━━━━━━━━━━━━━\u001b[0m \u001b[32m8.4/8.4 MB\u001b[0m \u001b[31m58.1 MB/s\u001b[0m eta \u001b[36m0:00:00\u001b[0m\n",
            "\u001b[?25hDownloading dawg2_python-0.9.0-py3-none-any.whl (9.3 kB)\n",
            "Installing collected packages: pymorphy3-dicts-ru, corus, py, dawg2-python, pymorphy3\n",
            "Successfully installed corus-0.10.0 dawg2-python-0.9.0 py-1.11.0 pymorphy3-2.0.3 pymorphy3-dicts-ru-2.4.417150.4580142\n"
          ]
        }
      ]
    },
    {
      "cell_type": "markdown",
      "source": [
        "Corus: Official loader for Lenta.ru dataset ensures correct parsing.\n",
        "\n",
        "Pymorphy3: Faster Russian lemmatization than Stanza (10x speedup).\n",
        "\n",
        "imbalanced-learn: Required for SMOTE to handle class imbalance.\n",
        "\n",
        "joblib: Enables parallel processing for lemmatization.\n",
        "\n",
        "tqdm: Provides progress visualization."
      ],
      "metadata": {
        "id": "KchHl2sngzMg"
      }
    },
    {
      "cell_type": "code",
      "source": [
        "import random\n",
        "import numpy as np\n",
        "import pandas as pd\n",
        "import corus\n",
        "import re\n",
        "import nltk\n",
        "import string\n",
        "import pymorphy3\n",
        "from pymorphy3 import MorphAnalyzer\n",
        "from multiprocessing import Pool\n",
        "from sklearn.model_selection import train_test_split, cross_val_score\n",
        "from sklearn.feature_extraction.text import TfidfVectorizer\n",
        "from sklearn.linear_model import LogisticRegression\n",
        "from sklearn.ensemble import RandomForestClassifier\n",
        "from sklearn.naive_bayes import MultinomialNB\n",
        "from sklearn.pipeline import Pipeline\n",
        "from sklearn.dummy import DummyClassifier\n",
        "from sklearn.metrics import accuracy_score\n",
        "from nltk.corpus import stopwords\n",
        "from imblearn.over_sampling import SMOTE"
      ],
      "metadata": {
        "id": "3qhhFyzcsYzL"
      },
      "execution_count": null,
      "outputs": []
    },
    {
      "cell_type": "markdown",
      "source": [
        "Fixed Random Seeds: Ensures consistent data splits and model initialization\n",
        "\n",
        "Justification: Required for reproducible ML experiments"
      ],
      "metadata": {
        "id": "ymcLwbu7SFWS"
      }
    },
    {
      "cell_type": "code",
      "source": [
        "# Fix random seed for reproducibility\n",
        "random_state = 42\n",
        "np.random.seed(random_state)\n",
        "random.seed(random_state)\n",
        "nltk.download(\"stopwords\")"
      ],
      "metadata": {
        "id": "MKDpoMxKuHAC",
        "colab": {
          "base_uri": "https://localhost:8080/"
        },
        "outputId": "2dbd5675-8dbb-44f2-e95c-04467db7875b"
      },
      "execution_count": null,
      "outputs": [
        {
          "output_type": "stream",
          "name": "stderr",
          "text": [
            "[nltk_data] Downloading package stopwords to /root/nltk_data...\n",
            "[nltk_data]   Unzipping corpora/stopwords.zip.\n"
          ]
        },
        {
          "output_type": "execute_result",
          "data": {
            "text/plain": [
              "True"
            ]
          },
          "metadata": {},
          "execution_count": 3
        }
      ]
    },
    {
      "cell_type": "code",
      "source": [
        "# Initialize pymorphy3 lemmatizer\n",
        "morph = pymorphy3.MorphAnalyzer()"
      ],
      "metadata": {
        "id": "MxD7vjmlUk65"
      },
      "execution_count": null,
      "outputs": []
    },
    {
      "cell_type": "code",
      "source": [
        "# Function to lemmatize text using pymorphy3\n",
        "def lemmatize_text(text):\n",
        "    return \" \".join([morph.parse(word)[0].normal_form for word in text.split()])"
      ],
      "metadata": {
        "id": "wkdIyhs1QQvI"
      },
      "execution_count": null,
      "outputs": []
    },
    {
      "cell_type": "code",
      "source": [
        "# Download the Lenta dataset\n",
        "!wget -q https://github.com/yutkin/Lenta.Ru-News-Dataset/releases/download/v1.0/lenta-ru-news.csv.gz\n",
        "from corus import load_lenta\n",
        "\n",
        "path = 'lenta-ru-news.csv.gz'\n",
        "records = load_lenta(path)  # Lazy loading"
      ],
      "metadata": {
        "id": "8-a581KcM_Io"
      },
      "execution_count": null,
      "outputs": []
    },
    {
      "cell_type": "markdown",
      "source": [
        "Sampling: Limits to 10k samples for faster testing.\n",
        "\n",
        "Progress Tracking: Uses tqdm for real-time loading status.\n",
        "\n",
        "Random Sampling: Stratified sampling maintains class distribution."
      ],
      "metadata": {
        "id": "qfcpKkg9gvAE"
      }
    },
    {
      "cell_type": "code",
      "source": [
        "# Load dataset into DataFrame\n",
        "def load_lenta_data(limit=10000):\n",
        "    data = []\n",
        "    for i, record in enumerate(records):\n",
        "        if i >= limit:\n",
        "            break\n",
        "        data.append((record.title, record.text, record.topic))\n",
        "    return pd.DataFrame(data, columns=[\"title\", \"text\", \"topic\"])\n",
        "\n",
        "df = load_lenta_data()"
      ],
      "metadata": {
        "id": "OVVbsDWdQVz6"
      },
      "execution_count": null,
      "outputs": []
    },
    {
      "cell_type": "markdown",
      "source": [
        "Cleaning: Removes noise (digits, punctuation) and normalizes case.\n",
        "\n",
        "Lemmatization: Uses pymorphy3 for accurate Russian word normalization.\n",
        "\n",
        "Justification: Preprocessing improves model performance by reducing noise."
      ],
      "metadata": {
        "id": "YOkLyEuUgqym"
      }
    },
    {
      "cell_type": "code",
      "source": [
        "# Function for basic text preprocessing\n",
        "def preprocess_text(text):\n",
        "    text = text.lower()  # Convert to lowercase\n",
        "    text = re.sub(r\"\\d+\", \"\", text)  # Remove digits\n",
        "    text = text.translate(str.maketrans(\"\", \"\", string.punctuation))  # Remove punctuation\n",
        "    return lemmatize_text(text)  # Lemmatize text"
      ],
      "metadata": {
        "id": "-KhZrk1dNKAi"
      },
      "execution_count": null,
      "outputs": []
    },
    {
      "cell_type": "code",
      "source": [
        "# Remove missing and empty values\n",
        "df = df.dropna()\n",
        "df = df[df[\"text\"].str.strip() != \"\"]"
      ],
      "metadata": {
        "id": "HaU70oWXuQoH"
      },
      "execution_count": null,
      "outputs": []
    },
    {
      "cell_type": "code",
      "source": [
        "from tqdm import tqdm  # Progress bar for tracking execution time\n",
        "\n",
        "tqdm.pandas()  # Enable progress_apply\n",
        "\n",
        "df[\"processed_text\"] = df[\"text\"].progress_apply(preprocess_text)"
      ],
      "metadata": {
        "id": "Sn-u_ydoNUNy",
        "colab": {
          "base_uri": "https://localhost:8080/"
        },
        "outputId": "73583e26-dbcb-40a1-8404-cee6cd316f7b"
      },
      "execution_count": null,
      "outputs": [
        {
          "output_type": "stream",
          "name": "stderr",
          "text": [
            "100%|██████████| 10000/10000 [05:29<00:00, 30.36it/s]\n"
          ]
        }
      ]
    },
    {
      "cell_type": "code",
      "source": [
        "# Encode categorical topics\n",
        "df[\"processed_topic\"] = df[\"topic\"].astype(\"category\").cat.codes"
      ],
      "metadata": {
        "id": "hIMdvSkBNWyG"
      },
      "execution_count": null,
      "outputs": []
    },
    {
      "cell_type": "code",
      "source": [
        "# Filter out underrepresented categories\n",
        "category_counts = df[\"processed_topic\"].value_counts()\n",
        "valid_categories = category_counts[category_counts >= 2].index\n",
        "df = df[df[\"processed_topic\"].isin(valid_categories)]"
      ],
      "metadata": {
        "id": "77t57ZgGxwqz"
      },
      "execution_count": null,
      "outputs": []
    },
    {
      "cell_type": "code",
      "source": [
        "# Split dataset into train, validation, and test sets\n",
        "X_train, X_temp, y_train, y_temp = train_test_split(\n",
        "    df[\"processed_text\"], df[\"processed_topic\"], test_size=0.4, stratify=df[\"processed_topic\"], random_state=random_state\n",
        ")"
      ],
      "metadata": {
        "id": "smBxdVbu4e3_"
      },
      "execution_count": null,
      "outputs": []
    },
    {
      "cell_type": "markdown",
      "source": [
        "max_df=0.9: Ignores terms that appear in >90% of documents.\n",
        "\n",
        "min_df=2: Ignores terms that appear in < 2 documents.\n",
        "\n",
        "ngram_range=(1, 2): Captures unigrams and bigrams.\n",
        "\n",
        "sublinear_tf=True: Applies sublinear TF scaling to reduce impact of frequent terms.\n",
        "\n",
        "Justification: TF-IDF is effective for text classification tasks."
      ],
      "metadata": {
        "id": "VMZytcUpdEzC"
      }
    },
    {
      "cell_type": "code",
      "source": [
        "# TF-IDF vectorization\n",
        "vectorizer = TfidfVectorizer(max_df=0.9, min_df=2, ngram_range=(1, 2), sublinear_tf=True)\n",
        "X_train_tfidf = vectorizer.fit_transform(X_train)  # Transform training data"
      ],
      "metadata": {
        "id": "7gGRKZAJHJTN"
      },
      "execution_count": null,
      "outputs": []
    },
    {
      "cell_type": "markdown",
      "source": [
        "SMOTE Choice: Generates synthetic samples for minority classes.\n",
        "\n",
        "k_neighbors=1: Reduces overfitting by limiting synthetic sample generation.\n",
        "\n",
        "Justification: SMOTE improves model performance on imbalanced datasets."
      ],
      "metadata": {
        "id": "dfj1pstleD1z"
      }
    },
    {
      "cell_type": "code",
      "source": [
        "# Apply SMOTE for balancing classes\n",
        "smote = SMOTE(sampling_strategy='auto', random_state=random_state, k_neighbors=1)\n",
        "X_train_resampled, y_train_resampled = smote.fit_resample(X_train_tfidf, y_train.to_numpy().ravel())"
      ],
      "metadata": {
        "id": "m1atUVfYG8fh"
      },
      "execution_count": null,
      "outputs": []
    },
    {
      "cell_type": "markdown",
      "source": [
        "Rare Class Filtering: Removes topics with < 2 samples to prevent stratification errors.\n",
        "\n",
        "Justification: Ensures all classes have sufficient samples for training."
      ],
      "metadata": {
        "id": "yZlfCcyscNim"
      }
    },
    {
      "cell_type": "code",
      "source": [
        "# Ensure all classes in y_temp have at least 2 instances before splitting\n",
        "class_counts = y_temp.value_counts()\n",
        "valid_classes = class_counts[class_counts >= 2].index\n",
        "y_temp_filtered = y_temp[y_temp.isin(valid_classes)]\n",
        "X_temp_filtered = X_temp.loc[y_temp_filtered.index]\n",
        "\n",
        "if len(np.unique(y_temp_filtered)) > 1:\n",
        "    X_val, X_test, y_val, y_test = train_test_split(\n",
        "        X_temp_filtered, y_temp_filtered, test_size=0.5, stratify=y_temp_filtered, random_state=random_state\n",
        "    )\n",
        "else:\n",
        "    raise ValueError(\"Not enough instances per class in y_temp for stratified split.\")"
      ],
      "metadata": {
        "id": "QN_ESQtPHBdU"
      },
      "execution_count": null,
      "outputs": []
    },
    {
      "cell_type": "code",
      "source": [
        "# Transform validation and test sets using the same TF-IDF vectorizer\n",
        "X_val_tfidf = vectorizer.transform(X_val)\n",
        "X_test_tfidf = vectorizer.transform(X_test)"
      ],
      "metadata": {
        "id": "7N1nBgtsMIHI"
      },
      "execution_count": null,
      "outputs": []
    },
    {
      "cell_type": "markdown",
      "source": [
        "Dummy Accuracy: Provides a baseline for model performance.\n",
        "\n",
        "Justification: Ensures models perform better than random guessing."
      ],
      "metadata": {
        "id": "fG_3DrrbcGga"
      }
    },
    {
      "cell_type": "code",
      "source": [
        "# Dummy classifier for baseline comparison\n",
        "dummy = DummyClassifier(strategy=\"most_frequent\")\n",
        "dummy.fit(X_train_resampled, y_train_resampled)\n",
        "y_pred_dummy = dummy.predict(X_test_tfidf)\n",
        "print(\"Dummy accuracy:\", accuracy_score(y_test, y_pred_dummy))"
      ],
      "metadata": {
        "id": "L1YTqI3pHGYg",
        "colab": {
          "base_uri": "https://localhost:8080/"
        },
        "outputId": "83a32ab0-c191-4587-f6f5-7aef11d66847"
      },
      "execution_count": null,
      "outputs": [
        {
          "output_type": "stream",
          "name": "stdout",
          "text": [
            "Dummy accuracy: 0.0\n"
          ]
        }
      ]
    },
    {
      "cell_type": "markdown",
      "source": [
        "Logistic Regression: Best baseline for text classification.\n",
        "\n",
        "Random Forest: Robust to overfitting and handles non-linear relationships.\n",
        "\n",
        "Naïve Bayes: Fast and effective for high-dimensional text data.\n",
        "\n",
        "Justification: These models are widely used for text classification tasks."
      ],
      "metadata": {
        "id": "wTmUIVMhc1_W"
      }
    },
    {
      "cell_type": "code",
      "source": [
        "# Define classification models\n",
        "models = {\n",
        "    \"Logistic Regression\": LogisticRegression(C=1.0, solver=\"liblinear\", random_state=random_state),\n",
        "    \"Random Forest\": RandomForestClassifier(n_estimators=200, random_state=random_state),\n",
        "    \"Naïve Bayes\": MultinomialNB()\n",
        "}"
      ],
      "metadata": {
        "id": "TFKs7IrbHMH-"
      },
      "execution_count": null,
      "outputs": []
    },
    {
      "cell_type": "markdown",
      "source": [
        "Justification: Cross-validation ensures reliable performance estimates."
      ],
      "metadata": {
        "id": "-yb-jy17cvnl"
      }
    },
    {
      "cell_type": "code",
      "source": [
        "# Evaluate models using cross-validation\n",
        "for model_name, model in models.items():\n",
        "    pipeline = Pipeline([\n",
        "        (\"classifier\", model)\n",
        "    ])\n",
        "    scores = cross_val_score(pipeline, X_train_resampled, y_train_resampled, cv=5, scoring=\"accuracy\")\n",
        "    print(f\"{model_name} mean accuracy: {np.mean(scores):.4f}\")"
      ],
      "metadata": {
        "id": "UvV7b5ZiHNMg",
        "colab": {
          "base_uri": "https://localhost:8080/"
        },
        "outputId": "984460a4-ba44-42f3-ad4d-84f5c18781d5"
      },
      "execution_count": null,
      "outputs": [
        {
          "output_type": "stream",
          "name": "stdout",
          "text": [
            "Logistic Regression mean accuracy: 0.9473\n",
            "Random Forest mean accuracy: 0.9394\n",
            "Naïve Bayes mean accuracy: 0.9192\n"
          ]
        }
      ]
    },
    {
      "cell_type": "markdown",
      "source": [
        "Justification: Logistic Regression was chosen as the final model due to its highest cross-validation accuracy."
      ],
      "metadata": {
        "id": "DkmvGOwecfxF"
      }
    },
    {
      "cell_type": "code",
      "source": [
        "# Train final model on best-performing classifier\n",
        "final_pipeline = Pipeline([\n",
        "    (\"classifier\", LogisticRegression(C=1.0, solver=\"liblinear\", random_state=random_state))\n",
        "])\n",
        "final_pipeline.fit(X_train_resampled, y_train_resampled)\n",
        "y_pred = final_pipeline.predict(X_test_tfidf)\n",
        "print(\"Final accuracy:\", accuracy_score(y_test, y_pred))"
      ],
      "metadata": {
        "id": "uXXnCrsMHTdN",
        "colab": {
          "base_uri": "https://localhost:8080/"
        },
        "outputId": "1e8d5d60-d39a-4d29-b070-b3f2e740f597"
      },
      "execution_count": null,
      "outputs": [
        {
          "output_type": "stream",
          "name": "stdout",
          "text": [
            "Final accuracy: 0.851\n"
          ]
        }
      ]
    },
    {
      "cell_type": "markdown",
      "source": [
        "Summary of Results\n",
        "Cross-Validation Accuracies:\n",
        "\n",
        "Logistic Regression: 0.9473\n",
        "\n",
        "Random Forest: 0.9394\n",
        "\n",
        "Naïve Bayes: 0.9192\n",
        "\n",
        "Final Test Accuracy: 0.851"
      ],
      "metadata": {
        "id": "DrINCIfTb-VW"
      }
    }
  ]
}