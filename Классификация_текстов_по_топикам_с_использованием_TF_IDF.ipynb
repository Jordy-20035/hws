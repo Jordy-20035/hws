{
  "nbformat": 4,
  "nbformat_minor": 0,
  "metadata": {
    "colab": {
      "provenance": [],
      "gpuType": "T4",
      "authorship_tag": "ABX9TyMXyZKY99k7sqyoqs4iGOVB",
      "include_colab_link": true
    },
    "kernelspec": {
      "name": "python3",
      "display_name": "Python 3"
    },
    "language_info": {
      "name": "python"
    },
    "accelerator": "GPU"
  },
  "cells": [
    {
      "cell_type": "markdown",
      "metadata": {
        "id": "view-in-github",
        "colab_type": "text"
      },
      "source": [
        "<a href=\"https://colab.research.google.com/github/Jordy-20035/hw_1/blob/main/%D0%9A%D0%BB%D0%B0%D1%81%D1%81%D0%B8%D1%84%D0%B8%D0%BA%D0%B0%D1%86%D0%B8%D1%8F_%D1%82%D0%B5%D0%BA%D1%81%D1%82%D0%BE%D0%B2_%D0%BF%D0%BE_%D1%82%D0%BE%D0%BF%D0%B8%D0%BA%D0%B0%D0%BC_%D1%81_%D0%B8%D1%81%D0%BF%D0%BE%D0%BB%D1%8C%D0%B7%D0%BE%D0%B2%D0%B0%D0%BD%D0%B8%D0%B5%D0%BC_TF_IDF.ipynb\" target=\"_parent\"><img src=\"https://colab.research.google.com/assets/colab-badge.svg\" alt=\"Open In Colab\"/></a>"
      ]
    },
    {
      "cell_type": "code",
      "source": [
        "!pip uninstall pymorphy2 -y"
      ],
      "metadata": {
        "colab": {
          "base_uri": "https://localhost:8080/"
        },
        "id": "pNcRluFCWHg3",
        "outputId": "d5308a8f-81ac-42b1-9da0-4726036e54c2"
      },
      "execution_count": 17,
      "outputs": [
        {
          "output_type": "stream",
          "name": "stdout",
          "text": [
            "Found existing installation: pymorphy2 0.9.1\n",
            "Uninstalling pymorphy2-0.9.1:\n",
            "  Successfully uninstalled pymorphy2-0.9.1\n"
          ]
        }
      ]
    },
    {
      "cell_type": "code",
      "source": [
        "!pip install corus py imbalanced-learn pymorphy3 pymorphy3-dicts-ru joblib tqdm"
      ],
      "metadata": {
        "id": "junnl9DyevTg",
        "colab": {
          "base_uri": "https://localhost:8080/",
          "height": 591
        },
        "collapsed": true,
        "outputId": "933059b4-2f01-43f6-ce5c-b2fa2d823c9e"
      },
      "execution_count": 18,
      "outputs": [
        {
          "output_type": "stream",
          "name": "stdout",
          "text": [
            "Requirement already satisfied: corus in /usr/local/lib/python3.11/dist-packages (0.10.0)\n",
            "Collecting py\n",
            "  Downloading py-1.11.0-py2.py3-none-any.whl.metadata (2.8 kB)\n",
            "Requirement already satisfied: imbalanced-learn in /usr/local/lib/python3.11/dist-packages (0.13.0)\n",
            "Collecting pymorphy3\n",
            "  Downloading pymorphy3-2.0.3-py3-none-any.whl.metadata (1.9 kB)\n",
            "Collecting pymorphy3-dicts-ru\n",
            "  Downloading pymorphy3_dicts_ru-2.4.417150.4580142-py2.py3-none-any.whl.metadata (2.0 kB)\n",
            "Requirement already satisfied: joblib in /usr/local/lib/python3.11/dist-packages (1.4.2)\n",
            "Requirement already satisfied: tqdm in /usr/local/lib/python3.11/dist-packages (4.67.1)\n",
            "Requirement already satisfied: numpy<3,>=1.24.3 in /usr/local/lib/python3.11/dist-packages (from imbalanced-learn) (1.26.4)\n",
            "Requirement already satisfied: scipy<2,>=1.10.1 in /usr/local/lib/python3.11/dist-packages (from imbalanced-learn) (1.14.1)\n",
            "Requirement already satisfied: scikit-learn<2,>=1.3.2 in /usr/local/lib/python3.11/dist-packages (from imbalanced-learn) (1.6.1)\n",
            "Requirement already satisfied: sklearn-compat<1,>=0.1 in /usr/local/lib/python3.11/dist-packages (from imbalanced-learn) (0.1.3)\n",
            "Requirement already satisfied: threadpoolctl<4,>=2.0.0 in /usr/local/lib/python3.11/dist-packages (from imbalanced-learn) (3.5.0)\n",
            "Collecting dawg2-python>=0.8.0 (from pymorphy3)\n",
            "  Downloading dawg2_python-0.9.0-py3-none-any.whl.metadata (7.5 kB)\n",
            "Downloading py-1.11.0-py2.py3-none-any.whl (98 kB)\n",
            "\u001b[2K   \u001b[90m━━━━━━━━━━━━━━━━━━━━━━━━━━━━━━━━━━━━━━━━\u001b[0m \u001b[32m98.7/98.7 kB\u001b[0m \u001b[31m6.9 MB/s\u001b[0m eta \u001b[36m0:00:00\u001b[0m\n",
            "\u001b[?25hDownloading pymorphy3-2.0.3-py3-none-any.whl (53 kB)\n",
            "\u001b[2K   \u001b[90m━━━━━━━━━━━━━━━━━━━━━━━━━━━━━━━━━━━━━━━━\u001b[0m \u001b[32m53.8/53.8 kB\u001b[0m \u001b[31m4.5 MB/s\u001b[0m eta \u001b[36m0:00:00\u001b[0m\n",
            "\u001b[?25hDownloading pymorphy3_dicts_ru-2.4.417150.4580142-py2.py3-none-any.whl (8.4 MB)\n",
            "\u001b[2K   \u001b[90m━━━━━━━━━━━━━━━━━━━━━━━━━━━━━━━━━━━━━━━━\u001b[0m \u001b[32m8.4/8.4 MB\u001b[0m \u001b[31m52.2 MB/s\u001b[0m eta \u001b[36m0:00:00\u001b[0m\n",
            "\u001b[?25hDownloading dawg2_python-0.9.0-py3-none-any.whl (9.3 kB)\n",
            "Installing collected packages: pymorphy3-dicts-ru, py, dawg2-python, pymorphy3\n",
            "Successfully installed dawg2-python-0.9.0 py-1.11.0 pymorphy3-2.0.3 pymorphy3-dicts-ru-2.4.417150.4580142\n"
          ]
        },
        {
          "output_type": "display_data",
          "data": {
            "application/vnd.colab-display-data+json": {
              "pip_warning": {
                "packages": [
                  "py"
                ]
              },
              "id": "1e2758da37cd406888e77e5b97255eb4"
            }
          },
          "metadata": {}
        }
      ]
    },
    {
      "cell_type": "code",
      "source": [
        "import random\n",
        "import numpy as np\n",
        "import pandas as pd\n",
        "import corus\n",
        "import re\n",
        "import nltk\n",
        "import string\n",
        "import pymorphy3\n",
        "from pymorphy3 import MorphAnalyzer\n",
        "from sklearn.model_selection import train_test_split, cross_val_score\n",
        "from sklearn.feature_extraction.text import TfidfVectorizer\n",
        "from sklearn.linear_model import LogisticRegression\n",
        "from sklearn.ensemble import RandomForestClassifier\n",
        "from sklearn.naive_bayes import MultinomialNB\n",
        "from sklearn.pipeline import Pipeline\n",
        "from sklearn.dummy import DummyClassifier\n",
        "from sklearn.metrics import accuracy_score\n",
        "from nltk.corpus import stopwords\n",
        "from imblearn.over_sampling import SMOTE"
      ],
      "metadata": {
        "id": "3qhhFyzcsYzL"
      },
      "execution_count": 1,
      "outputs": []
    },
    {
      "cell_type": "markdown",
      "source": [
        "Fixed Random Seeds: Ensures consistent data splits and model initialization\n",
        "\n",
        "Justification: Required for reproducible ML experiments"
      ],
      "metadata": {
        "id": "ymcLwbu7SFWS"
      }
    },
    {
      "cell_type": "code",
      "source": [
        "# Fix random seed for reproducibility\n",
        "random_state = 42\n",
        "np.random.seed(random_state)\n",
        "random.seed(random_state)\n",
        "nltk.download(\"stopwords\")"
      ],
      "metadata": {
        "id": "MKDpoMxKuHAC",
        "colab": {
          "base_uri": "https://localhost:8080/"
        },
        "outputId": "9e76f1b0-5d07-47c4-d95c-dc8f13eda032"
      },
      "execution_count": 2,
      "outputs": [
        {
          "output_type": "stream",
          "name": "stderr",
          "text": [
            "[nltk_data] Downloading package stopwords to /root/nltk_data...\n",
            "[nltk_data]   Package stopwords is already up-to-date!\n"
          ]
        },
        {
          "output_type": "execute_result",
          "data": {
            "text/plain": [
              "True"
            ]
          },
          "metadata": {},
          "execution_count": 2
        }
      ]
    },
    {
      "cell_type": "code",
      "source": [
        "# Initialize pymorphy3 lemmatizer\n",
        "morph = pymorphy3.MorphAnalyzer()"
      ],
      "metadata": {
        "id": "MxD7vjmlUk65"
      },
      "execution_count": 3,
      "outputs": []
    },
    {
      "cell_type": "code",
      "source": [
        "# Function to lemmatize text using pymorphy3\n",
        "def lemmatize_text(text):\n",
        "    return \" \".join([morph.parse(word)[0].normal_form for word in text.split()])"
      ],
      "metadata": {
        "id": "wkdIyhs1QQvI"
      },
      "execution_count": 4,
      "outputs": []
    },
    {
      "cell_type": "code",
      "source": [
        "# Download the Lenta dataset\n",
        "!wget -q https://github.com/yutkin/Lenta.Ru-News-Dataset/releases/download/v1.0/lenta-ru-news.csv.gz\n",
        "from corus import load_lenta\n",
        "\n",
        "path = 'lenta-ru-news.csv.gz'\n",
        "records = list(load_lenta(path))"
      ],
      "metadata": {
        "id": "8-a581KcM_Io"
      },
      "execution_count": 5,
      "outputs": []
    },
    {
      "cell_type": "code",
      "source": [
        "# Load dataset into DataFrame\n",
        "def load_lenta_data(limit=200000):\n",
        "    data = [(record.title, record.text, record.topic) for record in records[:limit]]\n",
        "    return pd.DataFrame(data, columns=[\"title\", \"text\", \"topic\"])\n",
        "\n",
        "df = load_lenta_data()"
      ],
      "metadata": {
        "id": "OVVbsDWdQVz6"
      },
      "execution_count": 6,
      "outputs": []
    },
    {
      "cell_type": "code",
      "source": [
        "# Function for basic text preprocessing\n",
        "def preprocess_text(text):\n",
        "    text = text.lower()  # Convert to lowercase\n",
        "    text = re.sub(r\"\\d+\", \"\", text)  # Remove digits\n",
        "    text = text.translate(str.maketrans(\"\", \"\", string.punctuation))  # Remove punctuation\n",
        "    return lemmatize_text(text)  # Lemmatize text"
      ],
      "metadata": {
        "id": "-KhZrk1dNKAi"
      },
      "execution_count": 7,
      "outputs": []
    },
    {
      "cell_type": "code",
      "source": [
        "# Remove missing and empty values\n",
        "df = df.dropna()\n",
        "df = df[df[\"text\"].str.strip() != \"\"]"
      ],
      "metadata": {
        "id": "HaU70oWXuQoH"
      },
      "execution_count": 8,
      "outputs": []
    },
    {
      "cell_type": "code",
      "source": [
        "# Apply text preprocessing\n",
        "df[\"processed_text\"] = df[\"text\"].apply(preprocess_text)"
      ],
      "metadata": {
        "id": "Sn-u_ydoNUNy"
      },
      "execution_count": null,
      "outputs": []
    },
    {
      "cell_type": "code",
      "source": [
        "# Encode categorical topics\n",
        "df[\"processed_topic\"] = df[\"topic\"].astype(\"category\").cat.codes"
      ],
      "metadata": {
        "id": "hIMdvSkBNWyG"
      },
      "execution_count": null,
      "outputs": []
    },
    {
      "cell_type": "code",
      "source": [
        "# Filter out underrepresented categories\n",
        "category_counts = df[\"processed_topic\"].value_counts()\n",
        "valid_categories = category_counts[category_counts >= 2].index\n",
        "df = df[df[\"processed_topic\"].isin(valid_categories)]"
      ],
      "metadata": {
        "id": "77t57ZgGxwqz"
      },
      "execution_count": null,
      "outputs": []
    },
    {
      "cell_type": "code",
      "source": [
        "# Split dataset into train, validation, and test sets\n",
        "X_train, X_temp, y_train, y_temp = train_test_split(\n",
        "    df[\"processed_text\"], df[\"processed_topic\"], test_size=0.4, stratify=df[\"processed_topic\"], random_state=random_state\n",
        ")"
      ],
      "metadata": {
        "id": "smBxdVbu4e3_"
      },
      "execution_count": null,
      "outputs": []
    },
    {
      "cell_type": "code",
      "source": [
        "# Apply SMOTE for balancing classes\n",
        "smote = SMOTE(random_state=random_state)\n",
        "X_train_resampled, y_train_resampled = smote.fit_resample(X_train.to_frame(), y_train)\n",
        "X_train_resampled = X_train_resampled.squeeze()"
      ],
      "metadata": {
        "id": "m1atUVfYG8fh"
      },
      "execution_count": null,
      "outputs": []
    },
    {
      "cell_type": "code",
      "source": [
        "# Further split validation and test sets\n",
        "X_val, X_test, y_val, y_test = train_test_split(\n",
        "    X_temp, y_temp, test_size=0.5, stratify=y_temp, random_state=random_state\n",
        ")"
      ],
      "metadata": {
        "id": "QN_ESQtPHBdU"
      },
      "execution_count": null,
      "outputs": []
    },
    {
      "cell_type": "code",
      "source": [
        "# Dummy classifier for baseline comparison\n",
        "dummy = DummyClassifier(strategy=\"most_frequent\")\n",
        "dummy.fit(X_train_resampled, y_train_resampled)\n",
        "y_pred_dummy = dummy.predict(X_test)\n",
        "print(\"Dummy accuracy:\", accuracy_score(y_test, y_pred_dummy))"
      ],
      "metadata": {
        "id": "L1YTqI3pHGYg"
      },
      "execution_count": null,
      "outputs": []
    },
    {
      "cell_type": "code",
      "source": [
        "# TF-IDF vectorization\n",
        "vectorizer = TfidfVectorizer(max_df=0.9, min_df=2, ngram_range=(1, 2), sublinear_tf=True)"
      ],
      "metadata": {
        "id": "7gGRKZAJHJTN"
      },
      "execution_count": null,
      "outputs": []
    },
    {
      "cell_type": "code",
      "source": [
        "# Define classification models\n",
        "models = {\n",
        "    \"Logistic Regression\": LogisticRegression(C=1.0, solver=\"liblinear\", random_state=random_state),\n",
        "    \"Random Forest\": RandomForestClassifier(n_estimators=200, random_state=random_state),\n",
        "    \"Naïve Bayes\": MultinomialNB()\n",
        "}"
      ],
      "metadata": {
        "id": "TFKs7IrbHMH-"
      },
      "execution_count": null,
      "outputs": []
    },
    {
      "cell_type": "code",
      "source": [
        "# Evaluate models using cross-validation\n",
        "for model_name, model in models.items():\n",
        "    pipeline = Pipeline([\n",
        "        (\"vectorizer\", vectorizer),\n",
        "        (\"classifier\", model)\n",
        "    ])\n",
        "    scores = cross_val_score(pipeline, X_train_resampled, y_train_resampled, cv=5, scoring=\"accuracy\")\n",
        "    print(f\"{model_name} mean accuracy: {np.mean(scores):.4f}\")"
      ],
      "metadata": {
        "id": "UvV7b5ZiHNMg"
      },
      "execution_count": null,
      "outputs": []
    },
    {
      "cell_type": "code",
      "source": [
        "# Train final model on best-performing classifier\n",
        "final_pipeline = Pipeline([\n",
        "    (\"vectorizer\", vectorizer),\n",
        "    (\"classifier\", LogisticRegression(C=1.0, solver=\"liblinear\", random_state=random_state))\n",
        "])\n",
        "final_pipeline.fit(X_train_resampled, y_train_resampled)\n",
        "y_pred = final_pipeline.predict(X_test)\n",
        "print(\"Final accuracy:\", accuracy_score(y_test, y_pred))"
      ],
      "metadata": {
        "id": "uXXnCrsMHTdN"
      },
      "execution_count": null,
      "outputs": []
    }
  ]
}